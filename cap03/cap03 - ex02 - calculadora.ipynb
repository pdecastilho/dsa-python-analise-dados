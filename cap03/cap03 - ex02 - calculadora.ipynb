{
 "cells": [
  {
   "cell_type": "raw",
   "id": "06f29b6d",
   "metadata": {},
   "source": [
    "Início\n",
    "    Exiba \"Bem-vindo à Calculadora\"\n",
    "    Peça para o usuário inserir o primeiro número\n",
    "    Armazene o primeiro número em uma variável\n",
    "    Peça para o usuário inserir o segundo número\n",
    "    Armazene o segundo número em uma variável\n",
    "    Peça para o usuário selecionar uma operação (+, -, *, /)\n",
    "    Armazene a operação em uma variável\n",
    "    Utilize a operação selecionada e os números armazenados para realizar o cálculo\n",
    "    Exiba o resultado\n",
    "Fim"
   ]
  },
  {
   "cell_type": "code",
   "execution_count": 7,
   "id": "ccab8fc6",
   "metadata": {},
   "outputs": [
    {
     "name": "stdout",
     "output_type": "stream",
     "text": [
      "Bem-vindo à Calculadora\n"
     ]
    }
   ],
   "source": [
    "print('Bem-vindo à Calculadora')"
   ]
  },
  {
   "cell_type": "code",
   "execution_count": 8,
   "id": "0b3c771d",
   "metadata": {},
   "outputs": [
    {
     "name": "stdout",
     "output_type": "stream",
     "text": [
      "Insira o primeiro número: 5\n"
     ]
    }
   ],
   "source": [
    "num1 = float(input('Insira o primeiro número: '))"
   ]
  },
  {
   "cell_type": "code",
   "execution_count": 9,
   "id": "67db703d",
   "metadata": {},
   "outputs": [
    {
     "name": "stdout",
     "output_type": "stream",
     "text": [
      "Insira o segundo número: 4\n"
     ]
    }
   ],
   "source": [
    "num2 = float(input('Insira o segundo número: '))"
   ]
  },
  {
   "cell_type": "code",
   "execution_count": 10,
   "id": "d1a8deba",
   "metadata": {},
   "outputs": [
    {
     "name": "stdout",
     "output_type": "stream",
     "text": [
      "Selecione uma operação (+, -, *, /):*\n"
     ]
    }
   ],
   "source": [
    "op = input('Selecione uma operação (+, -, *, /):')"
   ]
  },
  {
   "cell_type": "code",
   "execution_count": 11,
   "id": "489bc505",
   "metadata": {},
   "outputs": [],
   "source": [
    "if op == '+':\n",
    "    result = num1 + num2\n",
    "elif op == '-':\n",
    "    result = num1 - num1\n",
    "elif op == '*':\n",
    "    result = num1 * num2\n",
    "elif op == '/':\n",
    "    result = num1 / num2\n",
    "else:\n",
    "    print('Operação inválida')"
   ]
  },
  {
   "cell_type": "code",
   "execution_count": 12,
   "id": "a3724ac8",
   "metadata": {},
   "outputs": [
    {
     "name": "stdout",
     "output_type": "stream",
     "text": [
      "O resultado é:  20.0\n"
     ]
    }
   ],
   "source": [
    "print('O resultado é: ', result)"
   ]
  }
 ],
 "metadata": {
  "kernelspec": {
   "display_name": "Python 3 (ipykernel)",
   "language": "python",
   "name": "python3"
  },
  "language_info": {
   "codemirror_mode": {
    "name": "ipython",
    "version": 3
   },
   "file_extension": ".py",
   "mimetype": "text/x-python",
   "name": "python",
   "nbconvert_exporter": "python",
   "pygments_lexer": "ipython3",
   "version": "3.10.9"
  }
 },
 "nbformat": 4,
 "nbformat_minor": 5
}
