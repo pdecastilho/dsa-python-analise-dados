{
 "cells": [
  {
   "cell_type": "code",
   "execution_count": 13,
   "id": "fb7d7c9d",
   "metadata": {},
   "outputs": [
    {
     "name": "stdout",
     "output_type": "stream",
     "text": [
      "1\n",
      "2\n",
      "3\n",
      "4\n",
      "5\n",
      "6\n",
      "7\n",
      "8\n",
      "9\n",
      "10\n",
      "[1, 2, 3, 4, 5, 6, 7, 8, 9, 10]\n"
     ]
    }
   ],
   "source": [
    "# Exercício 1 - Imprima na tela os números de 1 a 10. Use uma lista para armazenar os números.\n",
    "list = []\n",
    "for i in range(1, 11):\n",
    "    print(i)\n",
    "    list.append(i)\n",
    "print(list)"
   ]
  },
  {
   "cell_type": "code",
   "execution_count": 15,
   "id": "0eeec477",
   "metadata": {},
   "outputs": [
    {
     "name": "stdout",
     "output_type": "stream",
     "text": [
      "['Caderno', 'Caneta', 'Lápis', 'Notebook', 'Smartphone']\n"
     ]
    }
   ],
   "source": [
    "# Exercício 2 - Crie uma lista de 5 objetos e imprima na tela\n",
    "objetos = [\"Caderno\", \"Caneta\", \"Lápis\", \"Notebook\", \"Smartphone\"]\n",
    "print(objetos)"
   ]
  },
  {
   "cell_type": "code",
   "execution_count": 17,
   "id": "f9c2d867",
   "metadata": {},
   "outputs": [
    {
     "name": "stdout",
     "output_type": "stream",
     "text": [
      "Bom dia, Alex\n"
     ]
    }
   ],
   "source": [
    "# Exercício 3 - Crie duas strings e concatene as duas em uma terceira string\n",
    "nome = \"Alex\"\n",
    "cumprimento = \"Bom dia\"\n",
    "saudacao = cumprimento + \", \" + nome\n",
    "print(saudacao)"
   ]
  },
  {
   "cell_type": "code",
   "execution_count": 20,
   "id": "7c0956c9",
   "metadata": {},
   "outputs": [
    {
     "data": {
      "text/plain": [
       "3"
      ]
     },
     "execution_count": 20,
     "metadata": {},
     "output_type": "execute_result"
    }
   ],
   "source": [
    "# Exercício 4 - Crie uma tupla com os seguintes elementos: 1, 2, 2, 3, 4, 4, 4, 5 e depois utilize a função count do \n",
    "# objeto tupla para verificar quantas vezes o número 4 aparece na tupla\n",
    "numeros_t = (1, 2, 2, 3, 4, 4, 4, 5)\n",
    "numeros_t.count(4)"
   ]
  },
  {
   "cell_type": "code",
   "execution_count": 21,
   "id": "37120958",
   "metadata": {},
   "outputs": [
    {
     "name": "stdout",
     "output_type": "stream",
     "text": [
      "{}\n"
     ]
    }
   ],
   "source": [
    "# Exercício 5 - Crie um dicionário vazio e imprima na tela\n",
    "dict = {}\n",
    "print(dict)"
   ]
  },
  {
   "cell_type": "code",
   "execution_count": 22,
   "id": "038a9b77",
   "metadata": {},
   "outputs": [
    {
     "name": "stdout",
     "output_type": "stream",
     "text": [
      "{'Mariana': 22, 'Alice': 19, 'Marcelo': 28}\n"
     ]
    }
   ],
   "source": [
    "# Exercício 6 - Crie um dicionário com 3 chaves e 3 valores e imprima na tela\n",
    "idades = {\"Mariana\": 22, \"Alice\": 19, \"Marcelo\": 28}\n",
    "print(idades)"
   ]
  },
  {
   "cell_type": "code",
   "execution_count": 25,
   "id": "8fee91f7",
   "metadata": {},
   "outputs": [
    {
     "name": "stdout",
     "output_type": "stream",
     "text": [
      "{'Mariana': 22, 'Alice': 19, 'Marcelo': 28, 'Vitor': 31}\n"
     ]
    }
   ],
   "source": [
    "# Exercício 7 - Adicione mais um elemento ao dicionário criado no exercício anterior e imprima na tela\n",
    "idades.update({\"Vitor\": 31})\n",
    "print(idades)"
   ]
  },
  {
   "cell_type": "code",
   "execution_count": 27,
   "id": "d82bcfce",
   "metadata": {},
   "outputs": [
    {
     "name": "stdout",
     "output_type": "stream",
     "text": [
      "{'nome': 'Fabrício', 'notas': [4, 9], 'curso': 'Física'}\n"
     ]
    }
   ],
   "source": [
    "# Exercício 8 - Crie um dicionário com 3 chaves e 3 valores. \n",
    "# Um dos valores deve ser uma lista de 2 elementos numéricos. \n",
    "# Imprima o dicionário na tela.\n",
    "dados = {\"nome\": \"Fabrício\", \"notas\": [4, 9], \"curso\": \"Física\"}\n",
    "print(dados)"
   ]
  },
  {
   "cell_type": "code",
   "execution_count": 28,
   "id": "e9fabd8b",
   "metadata": {},
   "outputs": [
    {
     "name": "stdout",
     "output_type": "stream",
     "text": [
      "['Python', (7, 18), {'fruta': 'maçã', 'verdura': 'agrião'}, 138.4]\n"
     ]
    }
   ],
   "source": [
    "# Exercício 9 - Crie uma lista de 4 elementos. O primeiro elemento deve ser uma string, \n",
    "# o segundo uma tupla de 2 elementos, o terceiro um dcionário com 2 chaves e 2 valores e \n",
    "# o quarto elemento um valor do tipo float.\n",
    "# Imprima a lista.\n",
    "minha_lista = [\"Python\", (7, 18), {\"fruta\": \"maçã\", \"verdura\": \"agrião\"}, 138.4]\n",
    "print(minha_lista)"
   ]
  },
  {
   "cell_type": "code",
   "execution_count": 32,
   "id": "83f3c648",
   "metadata": {},
   "outputs": [
    {
     "name": "stdout",
     "output_type": "stream",
     "text": [
      "Cientista de Dados\n"
     ]
    }
   ],
   "source": [
    "# Exercício 10 - Considere a string abaixo. Imprima na tela apenas os caracteres da posição 1 a 18.\n",
    "frase = 'Cientista de Dados é o profissional mais sexy do século XXI'\n",
    "print(frase[0:18])"
   ]
  }
 ],
 "metadata": {
  "kernelspec": {
   "display_name": "Python 3 (ipykernel)",
   "language": "python",
   "name": "python3"
  },
  "language_info": {
   "codemirror_mode": {
    "name": "ipython",
    "version": 3
   },
   "file_extension": ".py",
   "mimetype": "text/x-python",
   "name": "python",
   "nbconvert_exporter": "python",
   "pygments_lexer": "ipython3",
   "version": "3.10.9"
  }
 },
 "nbformat": 4,
 "nbformat_minor": 5
}
