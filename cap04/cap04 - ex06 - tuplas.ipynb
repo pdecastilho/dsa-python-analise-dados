{
 "cells": [
  {
   "cell_type": "markdown",
   "id": "592fb28e",
   "metadata": {},
   "source": [
    "## Trabalhando com Tuplas"
   ]
  },
  {
   "cell_type": "code",
   "execution_count": 5,
   "id": "ec0adf56",
   "metadata": {},
   "outputs": [],
   "source": [
    "tupla1 = (\"Geografia\", 23, \"Elefantes\", 9.8, \"Python\")"
   ]
  },
  {
   "cell_type": "code",
   "execution_count": 6,
   "id": "7d129947",
   "metadata": {},
   "outputs": [
    {
     "data": {
      "text/plain": [
       "('Geografia', 23, 'Elefantes', 9.8, 'Python')"
      ]
     },
     "execution_count": 6,
     "metadata": {},
     "output_type": "execute_result"
    }
   ],
   "source": [
    "tupla1"
   ]
  },
  {
   "cell_type": "code",
   "execution_count": 8,
   "id": "5d476c81",
   "metadata": {},
   "outputs": [],
   "source": [
    "tupla1 = (\"Chocolate\")"
   ]
  },
  {
   "cell_type": "code",
   "execution_count": 9,
   "id": "b58d6bf7",
   "metadata": {},
   "outputs": [
    {
     "data": {
      "text/plain": [
       "'Chocolate'"
      ]
     },
     "execution_count": 9,
     "metadata": {},
     "output_type": "execute_result"
    }
   ],
   "source": [
    "tupla1"
   ]
  },
  {
   "cell_type": "code",
   "execution_count": 10,
   "id": "07ce87ff",
   "metadata": {},
   "outputs": [],
   "source": [
    "tupla1 = (\"Geografia\", 23, \"Elefantes\", 9.8, \"Python\")"
   ]
  },
  {
   "cell_type": "code",
   "execution_count": 11,
   "id": "319495d4",
   "metadata": {},
   "outputs": [
    {
     "data": {
      "text/plain": [
       "'Geografia'"
      ]
     },
     "execution_count": 11,
     "metadata": {},
     "output_type": "execute_result"
    }
   ],
   "source": [
    "tupla1[0]"
   ]
  },
  {
   "cell_type": "code",
   "execution_count": 12,
   "id": "2a572be5",
   "metadata": {},
   "outputs": [
    {
     "data": {
      "text/plain": [
       "5"
      ]
     },
     "execution_count": 12,
     "metadata": {},
     "output_type": "execute_result"
    }
   ],
   "source": [
    "len(tupla1)"
   ]
  },
  {
   "cell_type": "code",
   "execution_count": 14,
   "id": "a2afeb3b",
   "metadata": {},
   "outputs": [
    {
     "data": {
      "text/plain": [
       "(23, 'Elefantes', 9.8, 'Python')"
      ]
     },
     "execution_count": 14,
     "metadata": {},
     "output_type": "execute_result"
    }
   ],
   "source": [
    "tupla1[1:]"
   ]
  },
  {
   "cell_type": "code",
   "execution_count": 16,
   "id": "b81c631d",
   "metadata": {},
   "outputs": [
    {
     "data": {
      "text/plain": [
       "2"
      ]
     },
     "execution_count": 16,
     "metadata": {},
     "output_type": "execute_result"
    }
   ],
   "source": [
    "tupla1.index(\"Elefantes\")"
   ]
  },
  {
   "cell_type": "code",
   "execution_count": 18,
   "id": "0b4e07e2",
   "metadata": {},
   "outputs": [],
   "source": [
    "del tupla1"
   ]
  },
  {
   "cell_type": "code",
   "execution_count": 20,
   "id": "8729e7c3",
   "metadata": {},
   "outputs": [],
   "source": [
    "t2 = (\"A\", \"B\", \"C\", \"D\")"
   ]
  },
  {
   "cell_type": "code",
   "execution_count": 21,
   "id": "104feb75",
   "metadata": {},
   "outputs": [
    {
     "data": {
      "text/plain": [
       "('A', 'B', 'C', 'D')"
      ]
     },
     "execution_count": 21,
     "metadata": {},
     "output_type": "execute_result"
    }
   ],
   "source": [
    "t2"
   ]
  },
  {
   "cell_type": "code",
   "execution_count": 22,
   "id": "a85c4ea0",
   "metadata": {},
   "outputs": [],
   "source": [
    "lista2 = list(t2)"
   ]
  },
  {
   "cell_type": "code",
   "execution_count": 23,
   "id": "f238fb76",
   "metadata": {},
   "outputs": [
    {
     "data": {
      "text/plain": [
       "['A', 'B', 'C', 'D']"
      ]
     },
     "execution_count": 23,
     "metadata": {},
     "output_type": "execute_result"
    }
   ],
   "source": [
    "lista2"
   ]
  },
  {
   "cell_type": "code",
   "execution_count": 24,
   "id": "0f089a7a",
   "metadata": {},
   "outputs": [],
   "source": [
    "lista2.append(\"E\")"
   ]
  },
  {
   "cell_type": "code",
   "execution_count": 25,
   "id": "99412c94",
   "metadata": {},
   "outputs": [],
   "source": [
    "t2 = tuple(lista2)"
   ]
  },
  {
   "cell_type": "code",
   "execution_count": 26,
   "id": "8947e36e",
   "metadata": {},
   "outputs": [
    {
     "data": {
      "text/plain": [
       "('A', 'B', 'C', 'D', 'E')"
      ]
     },
     "execution_count": 26,
     "metadata": {},
     "output_type": "execute_result"
    }
   ],
   "source": [
    "t2"
   ]
  }
 ],
 "metadata": {
  "kernelspec": {
   "display_name": "Python 3 (ipykernel)",
   "language": "python",
   "name": "python3"
  },
  "language_info": {
   "codemirror_mode": {
    "name": "ipython",
    "version": 3
   },
   "file_extension": ".py",
   "mimetype": "text/x-python",
   "name": "python",
   "nbconvert_exporter": "python",
   "pygments_lexer": "ipython3",
   "version": "3.10.9"
  }
 },
 "nbformat": 4,
 "nbformat_minor": 5
}
