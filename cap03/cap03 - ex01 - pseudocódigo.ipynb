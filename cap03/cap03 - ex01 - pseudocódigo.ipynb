{
 "cells": [
  {
   "cell_type": "markdown",
   "id": "a4629fc4",
   "metadata": {},
   "source": [
    "Um paralelogramo é um quadrilátero que possui dois pares de lados paralelos. Isso significa que os lados opostos do paralelogramo são paralelos entre si. Além disso, os ângulos opostos de um paralelogramo são congruentes, o que significa que têm a mesma medida."
   ]
  },
  {
   "cell_type": "markdown",
   "id": "726db900",
   "metadata": {},
   "source": [
    "Pseudocódigo para o cálculo da área de um paralelogramo\n",
    "1. Ler a medida da base do paralelogramo (b).\n",
    "2. Ler a medida da altura do paralelogramo (h).\n",
    "3. Calcular a área do paralelogramo multiplicando a base pela altura (A = b * h).\n",
    "4. Exibir a área do paralelogramo."
   ]
  },
  {
   "cell_type": "raw",
   "id": "34e69c02",
   "metadata": {},
   "source": [
    "Início\n",
    "    Exiba \"Bem-vindo ao Calculador de Área de Paralelogramo\"\n",
    "    Peça para o usuário inserir o valor da base\n",
    "    Armazene o comprimento da base em uma variável\n",
    "    Peça para o usuário inserir o valor da altura\n",
    "    Armazene a altura em uma variável\n",
    "    Calcule a área do paralelogramo: base * altura\n",
    "    Armazene o resultado em uma variável\n",
    "    Exiba o resultado\n",
    "Fim"
   ]
  },
  {
   "cell_type": "code",
   "execution_count": 6,
   "id": "b3f31062",
   "metadata": {},
   "outputs": [
    {
     "name": "stdout",
     "output_type": "stream",
     "text": [
      "Bem-vindo ao Calculador de Área de Paralelogramo\n"
     ]
    }
   ],
   "source": [
    "print('Bem-vindo ao Calculador de Área de Paralelogramo')"
   ]
  },
  {
   "cell_type": "code",
   "execution_count": 8,
   "id": "e2af4521",
   "metadata": {},
   "outputs": [
    {
     "name": "stdout",
     "output_type": "stream",
     "text": [
      "Insira o comprimento da base: 5\n"
     ]
    }
   ],
   "source": [
    "base = float(input('Insira o comprimento da base: '))"
   ]
  },
  {
   "cell_type": "code",
   "execution_count": 9,
   "id": "78664c22",
   "metadata": {},
   "outputs": [
    {
     "name": "stdout",
     "output_type": "stream",
     "text": [
      "Insira a altura: 2\n"
     ]
    }
   ],
   "source": [
    "altura = float(input('Insira a altura: '))"
   ]
  },
  {
   "cell_type": "code",
   "execution_count": 10,
   "id": "93a2edf1",
   "metadata": {},
   "outputs": [],
   "source": [
    "area = base * altura"
   ]
  },
  {
   "cell_type": "code",
   "execution_count": 11,
   "id": "5fe36885",
   "metadata": {},
   "outputs": [
    {
     "name": "stdout",
     "output_type": "stream",
     "text": [
      "A área do paralelogramo é:  10.0\n"
     ]
    }
   ],
   "source": [
    "print('A área do paralelogramo é: ', area)"
   ]
  }
 ],
 "metadata": {
  "kernelspec": {
   "display_name": "Python 3 (ipykernel)",
   "language": "python",
   "name": "python3"
  },
  "language_info": {
   "codemirror_mode": {
    "name": "ipython",
    "version": 3
   },
   "file_extension": ".py",
   "mimetype": "text/x-python",
   "name": "python",
   "nbconvert_exporter": "python",
   "pygments_lexer": "ipython3",
   "version": "3.10.9"
  }
 },
 "nbformat": 4,
 "nbformat_minor": 5
}
